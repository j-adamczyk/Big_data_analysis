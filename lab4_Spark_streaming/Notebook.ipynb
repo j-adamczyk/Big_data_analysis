{
 "cells": [
  {
   "cell_type": "code",
   "execution_count": 2,
   "metadata": {},
   "outputs": [
    {
     "name": "stdout",
     "output_type": "stream",
     "text": [
      "root\n",
      " |-- type: string (nullable = false)\n",
      " |-- trade_id: long (nullable = false)\n",
      " |-- sequence: long (nullable = false)\n",
      " |-- time: timestamp (nullable = false)\n",
      " |-- product_id: string (nullable = false)\n",
      " |-- price: double (nullable = false)\n",
      " |-- side: string (nullable = false)\n",
      " |-- last_size: double (nullable = false)\n",
      " |-- best_bid: double (nullable = false)\n",
      " |-- best_ask: double (nullable = false)\n",
      "\n"
     ]
    }
   ],
   "source": [
    "from pyspark.sql import SparkSession\n",
    "\n",
    "spark = SparkSession.builder.config(\"spark.sql.streaming.schemaInference\", True).getOrCreate()\n",
    "\n",
    "stream = spark.\\\n",
    "    readStream.\\\n",
    "    format(\"ws\").\\\n",
    "    option(\"schema\", \"ticker\").\\\n",
    "    load() # we need to pass `option(\"schema\", \"ticker\")` to get correct channel subscribed\n",
    "\n",
    "query = stream.select(\"side\", \"product_id\", \"last_size\", \"best_bid\", \"best_ask\", \"time\").\\\n",
    "    writeStream.\\\n",
    "    format(\"console\").\\\n",
    "    outputMode(\"append\").\\\n",
    "    option(\"truncate\", \"false\").\\\n",
    "    start()\n",
    "\n",
    "query.awaitTermination(10) # Let's wait for 10 seconds.\n",
    "query.stop() # Let's stop the query\n",
    "stream.printSchema()\n",
    "#spark.stop() # And stop the whole session"
   ]
  },
  {
   "cell_type": "markdown",
   "metadata": {},
   "source": [
    "Uruchamiająć `stream.start()` uruchamiamy w osobnym demonie websocket który streamuje wyniki. Jeżeli wystąpi jakiś błąd po stronie front-endu (np. błąd parsowania kolejnej linijki Pythona) fakt ten nie zostanie zgłoszony do sparka i socket pozostanie otwarty! Należy pamiętać, by zamykać stream za każdym razem używająć metody `stop()` (w powyższym przykładzie `query.stop()`). W przypadku utracenia referencji do zapytania, należy zastopować całą sesję również metodą `stop()` (w powyższym przykładzie `spark.stop()`) "
   ]
  },
  {
   "cell_type": "code",
   "execution_count": null,
   "metadata": {},
   "outputs": [],
   "source": [
    "# Panic button - press only if you messed up opening new websocket and lost reference to it\n",
    "\n",
    "query.stop()\n",
    "spark.stop()"
   ]
  },
  {
   "cell_type": "markdown",
   "metadata": {},
   "source": [
    "# Zadanie 1\n",
    "\n",
    "**Analiza strumienia danych CoinBase (3p)**. Napisz zapytanie, które wypisuje średnią wartość wybranego parametru (np. `price`) w przesuwnych oknach czasowych względem czasu transakcji (kolumna `time`), grupując po relacji wymiany (z jakiej waluty na jaką walutę - kolumna `product_id`). "
   ]
  },
  {
   "cell_type": "code",
   "execution_count": 3,
   "metadata": {},
   "outputs": [],
   "source": [
    "from pyspark.sql import SparkSession\n",
    "\n",
    "spark = SparkSession.builder.\\\n",
    "    config(\"spark.sql.streaming.schemaInference\", True).\\\n",
    "    config(\"spark.sql.streaming.forceDeleteTempCheckpointLocation\", True).getOrCreate()  \n",
    "\n",
    "stream = spark.readStream.\\\n",
    "    format(\"ws\").\\\n",
    "    option(\"schema\", \"ticker\").\\\n",
    "    load()\n",
    "\n",
    "# your code..."
   ]
  },
  {
   "cell_type": "markdown",
   "metadata": {},
   "source": [
    "# Zadanie 2\n",
    "\n",
    "**Watermarking i dane opóźnione (3p).** \n",
    "Zmodyfikuj zapytanie z zadania 1 tak, aby zademonstować mechanizm znaków wodnych (watermarks) i obsługi danych opóźnionych. W konsoli powinno być widać, że aktualizują się odpowiednie wiersze tabeli wynikowej (tryb update), w szczególności aktualizacja wcześniejszych okien czasowych po przybyciu danych opóźnionych. **Do rozwiązania tego zadania proszę dołączyć przykładowy output i jego opis wyjaśniający na konkretnym przykładzie działanie znaku wodnego i danych opóźnionych**. \n",
    "\n",
    "Do ćwiczenia można wykorzystać skrypt w katalogu `/mock` napisany w [Scala-cli](https://scala-cli.virtuslab.org), który posłuży jako kontrolowane źródło danych CoinBase przez Websocket. \n",
    "\n",
    "Skrypt można uruchomić wykorzystując Docker:\n",
    "\n",
    "```\n",
    "make image\n",
    "make run\n",
    "```\n",
    "\n",
    "Spowoduje to utworzenie websocketowego serwera pod adresem `ws://mock:8025`\n",
    "\n",
    "Po uruchomieniu serwera należy wykonać poniższą komórkę, w której zapytanie czyta dane z utworzonego websocketa. Skrypt wysyła przykładowe wiadomości w formacie CoinBase co 10 sekund:\n",
    "\n",
    "- W pierwszej serii wysyłane wiadomości o znacznikach czasowych 0s, 14s, 7s  \n",
    "- W drugiej serii wysyłane są wiadomości o znacznikach czasowych 15s, 8s, 21s  \n",
    "- W trzeciej serii wysyłane są wiadomości o znacznikach czasowych 4s, 17s  \n",
    "\n",
    "Dla tych danych można ustawić okno czasowe na interwał 10 sekund. Skrypt można też zmodyfikować, tak aby wysyłał inne dane. \n"
   ]
  },
  {
   "cell_type": "code",
   "execution_count": 6,
   "metadata": {},
   "outputs": [],
   "source": [
    "from pyspark.sql import SparkSession\n",
    "\n",
    "spark = SparkSession.builder.config(\"spark.sql.streaming.schemaInference\", True).getOrCreate()\n",
    "\n",
    "# Note url option!\n",
    "stream = spark.readStream.\\\n",
    "    format(\"ws\").\\\n",
    "    option(\"schema\", \"ticker\").\\\n",
    "    option(\"url\", \"ws://mock:8025\").load() # we pass explicit url option to subscribe to our mock service\n",
    "\n",
    "# your code here..."
   ]
  },
  {
   "cell_type": "markdown",
   "metadata": {},
   "source": [
    "# Zadanie 3\n",
    "\n",
    "**Łączenie strumieni (3p)**. Rozdziel sztucznie dane CoinBase z kanału `ticker` na dwa strumienie (wykorzystując filtrowanie subskrypcji): jeden strumień dla `side=\"sell\"`, drugi dla `side=\"buy\"`. Następnie stwórz zapytanie, które łączy te strumienie i wypisuje transakcje dla danego `product_id`, które występowały po sobie w ciągu 1s."
   ]
  },
  {
   "cell_type": "code",
   "execution_count": 4,
   "metadata": {
    "pycharm": {
     "name": "#%%\n"
    }
   },
   "outputs": [],
   "source": [
    "from pyspark.sql import SparkSession\n",
    "\n",
    "spark = SparkSession.\\\n",
    "    builder.\\\n",
    "    config(\"spark.sql.streaming.schemaInference\", True).\\\n",
    "    config(\"spark.sql.streaming.forceDeleteTempCheckpointLocation\", True).\\\n",
    "    getOrCreate()  \n",
    "\n",
    "stream = spark.\\\n",
    "    readStream.\\\n",
    "    format(\"ws\").\\\n",
    "    option(\"schema\", \"ticker\").\\\n",
    "    load()\n",
    "\n",
    "# your code..."
   ]
  },
  {
   "cell_type": "code",
   "execution_count": null,
   "metadata": {},
   "outputs": [],
   "source": []
  }
 ],
 "metadata": {
  "interpreter": {
   "hash": "916dbcbb3f70747c44a77c7bcd40155683ae19c65e1c03b4aa3499c5328201f1"
  },
  "kernelspec": {
   "display_name": "Python 3",
   "language": "python",
   "name": "python3"
  },
  "language_info": {
   "codemirror_mode": {
    "name": "ipython",
    "version": 3
   },
   "file_extension": ".py",
   "mimetype": "text/x-python",
   "name": "python",
   "nbconvert_exporter": "python",
   "pygments_lexer": "ipython3",
   "version": "3.8.5"
  }
 },
 "nbformat": 4,
 "nbformat_minor": 5
}
