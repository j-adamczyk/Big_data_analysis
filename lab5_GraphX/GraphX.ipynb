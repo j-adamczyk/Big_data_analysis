{
 "cells": [
  {
   "cell_type": "markdown",
   "id": "c4dc61ba",
   "metadata": {},
   "source": [
    "# Spark streaming"
   ]
  },
  {
   "cell_type": "markdown",
   "id": "0838e3a9",
   "metadata": {},
   "source": [
    "## Data loading"
   ]
  },
  {
   "cell_type": "markdown",
   "id": "00afd9e8",
   "metadata": {},
   "source": [
    "We'll be using [Facebook Large Page-Page Network dataset](https://snap.stanford.edu/data/facebook-large-page-page-network.html).\n",
    "\n",
    "Load:\n",
    "- edges from `\"musae_facebook_edges.csv\"` file, format \"id1,id2\"\n",
    "- attributes from `\"musae_facebook_target.csv\"` file, format \"id,facebook_id,page_name,page_type\"\n",
    "\n",
    "Count number of edges and vertices.\n",
    "\n",
    "I deleted header and empty last line in each file manually to have uniform lines."
   ]
  },
  {
   "cell_type": "code",
   "execution_count": 1,
   "id": "9063913b",
   "metadata": {},
   "outputs": [
    {
     "data": {
      "text/plain": [
       "Intitializing Scala interpreter ..."
      ]
     },
     "metadata": {},
     "output_type": "display_data"
    },
    {
     "data": {
      "text/plain": [
       "Spark Web UI available at http://DESKTOP-HNLVNJD.mshome.net:4040\n",
       "SparkContext available as 'sc' (version = 3.1.2, master = local[*], app id = local-1638904266079)\n",
       "SparkSession available as 'spark'\n"
      ]
     },
     "metadata": {},
     "output_type": "display_data"
    },
    {
     "data": {
      "text/plain": [
       "import org.apache.spark._\r\n",
       "import org.apache.spark.graphx._\r\n",
       "import org.apache.spark.sql._\r\n",
       "import org.apache.spark.rdd.RDD\r\n"
      ]
     },
     "execution_count": 1,
     "metadata": {},
     "output_type": "execute_result"
    }
   ],
   "source": [
    "import org.apache.spark._\n",
    "import org.apache.spark.graphx._\n",
    "import org.apache.spark.sql._\n",
    "import org.apache.spark.rdd.RDD"
   ]
  },
  {
   "cell_type": "code",
   "execution_count": 2,
   "id": "8c29f4c5",
   "metadata": {},
   "outputs": [
    {
     "data": {
      "text/plain": [
       "sc: org.apache.spark.SparkContext = org.apache.spark.SparkContext@5217e75a\r\n",
       "vertices: org.apache.spark.rdd.RDD[(Long, (String, String))] = MapPartitionsRDD[2] at map at <console>:46\r\n",
       "edges: org.apache.spark.rdd.RDD[org.apache.spark.graphx.Edge[String]] = MapPartitionsRDD[5] at map at <console>:54\r\n",
       "default_node: (String, String) = (\"\",\"\")\r\n",
       "graph: org.apache.spark.graphx.Graph[(String, String),String] = org.apache.spark.graphx.impl.GraphImpl@3b82d272\r\n"
      ]
     },
     "execution_count": 2,
     "metadata": {},
     "output_type": "execute_result"
    }
   ],
   "source": [
    "val sc = (\n",
    "    SparkContext\n",
    "    .getOrCreate(\n",
    "        new SparkConf()\n",
    "        .setAppName(\"GraphX lab\")\n",
    "        .setMaster(\"local[*]\")\n",
    "    )\n",
    ")\n",
    "\n",
    "val vertices: RDD[(Long, (String, String))] = (\n",
    "    sc.textFile(\"musae_facebook_target.csv\")\n",
    "    .map(line => {\n",
    "        val x = line.split(\",\");\n",
    "        (x(0).toLong, (x(2), x(3)))\n",
    "    })\n",
    ")\n",
    "\n",
    "val edges: RDD[Edge[String]] = (\n",
    "    sc.textFile(\"musae_facebook_edges.csv\")\n",
    "    .map(line => {\n",
    "        val x = line.split(\",\");\n",
    "        Edge(x(0).toLong, x(1).toLong, \"\")\n",
    "    })\n",
    ")\n",
    "\n",
    "val default_node = (\"\", \"\")\n",
    "\n",
    "val graph: Graph[(String, String), String] = Graph(vertices, edges, default_node)"
   ]
  },
  {
   "cell_type": "code",
   "execution_count": 3,
   "id": "c48d4045",
   "metadata": {},
   "outputs": [
    {
     "data": {
      "text/plain": [
       "res0: Long = 22470\r\n"
      ]
     },
     "execution_count": 3,
     "metadata": {},
     "output_type": "execute_result"
    }
   ],
   "source": [
    "graph.vertices.count()"
   ]
  },
  {
   "cell_type": "code",
   "execution_count": 4,
   "id": "91102fc7",
   "metadata": {},
   "outputs": [
    {
     "data": {
      "text/plain": [
       "res1: Long = 171002\r\n"
      ]
     },
     "execution_count": 4,
     "metadata": {},
     "output_type": "execute_result"
    }
   ],
   "source": [
    "graph.edges.count()"
   ]
  },
  {
   "cell_type": "markdown",
   "id": "9cc5dffc",
   "metadata": {},
   "source": [
    "## Graph and subgraphs connectivity"
   ]
  },
  {
   "cell_type": "markdown",
   "id": "8b2999b9",
   "metadata": {},
   "source": [
    "Check if the graph is connected. Are the subgraphs for \"politician\" and \"company\" page types connected?"
   ]
  },
  {
   "cell_type": "code",
   "execution_count": 7,
   "id": "2e63a058",
   "metadata": {},
   "outputs": [
    {
     "data": {
      "text/plain": [
       "isConnected: (graph: org.apache.spark.graphx.Graph[(String, String),String])Boolean\r\n"
      ]
     },
     "execution_count": 7,
     "metadata": {},
     "output_type": "execute_result"
    }
   ],
   "source": [
    "def isConnected(graph: Graph[(String, String), String]): Boolean = {\n",
    "    graph.vertices.count() == graph.connectedComponents().vertices.count()\n",
    "}"
   ]
  },
  {
   "cell_type": "code",
   "execution_count": 8,
   "id": "21c98ac8",
   "metadata": {},
   "outputs": [
    {
     "name": "stdout",
     "output_type": "stream",
     "text": [
      "true\n"
     ]
    }
   ],
   "source": [
    "println(isConnected(graph))"
   ]
  },
  {
   "cell_type": "code",
   "execution_count": 9,
   "id": "0f542b05",
   "metadata": {},
   "outputs": [
    {
     "name": "stdout",
     "output_type": "stream",
     "text": [
      "true\n"
     ]
    },
    {
     "data": {
      "text/plain": [
       "politicians_graph: org.apache.spark.graphx.Graph[(String, String),String] = org.apache.spark.graphx.impl.GraphImpl@19fc91d2\r\n"
      ]
     },
     "execution_count": 9,
     "metadata": {},
     "output_type": "execute_result"
    }
   ],
   "source": [
    "val politicians_graph = graph.subgraph(\n",
    "    vpred = { case (id, (page_name, page_type)) => page_type == \"politician\" }\n",
    ")\n",
    "\n",
    "println(isConnected(politicians_graph))"
   ]
  },
  {
   "cell_type": "code",
   "execution_count": 10,
   "id": "56e60dfe",
   "metadata": {},
   "outputs": [
    {
     "name": "stdout",
     "output_type": "stream",
     "text": [
      "true\n"
     ]
    },
    {
     "data": {
      "text/plain": [
       "companies_graph: org.apache.spark.graphx.Graph[(String, String),String] = org.apache.spark.graphx.impl.GraphImpl@6701432c\r\n"
      ]
     },
     "execution_count": 10,
     "metadata": {},
     "output_type": "execute_result"
    }
   ],
   "source": [
    "val companies_graph = graph.subgraph(\n",
    "    vpred = { case (id, (page_name, page_type)) => page_type == \"company\" }\n",
    ")\n",
    "\n",
    "println(isConnected(companies_graph))"
   ]
  },
  {
   "cell_type": "markdown",
   "id": "6f8a4f08",
   "metadata": {},
   "source": [
    "## PageRank and vertex degree ranking"
   ]
  },
  {
   "cell_type": "markdown",
   "id": "e298780c",
   "metadata": {},
   "source": [
    "Among the 1000 pages with the highest PageRank value select 50 vertices (print page_name and page_type) with the lowest degree and 50 with the highest degree. Which type was the most popular in each part?\n",
    "\n",
    "Create a scatter plot of PageRank value (Y axis) vs vertex degree (X axis)."
   ]
  },
  {
   "cell_type": "code",
   "execution_count": 11,
   "id": "9aa7b664",
   "metadata": {},
   "outputs": [
    {
     "data": {
      "text/plain": [
       "ranks: org.apache.spark.graphx.VertexRDD[Double] = VertexRDDImpl[1817] at RDD at VertexRDD.scala:57\r\n",
       "rankedVertexDegrees: org.apache.spark.rdd.RDD[(org.apache.spark.graphx.VertexId, (Double, Int))] = MapPartitionsRDD[1830] at join at <console>:38\r\n"
      ]
     },
     "execution_count": 11,
     "metadata": {},
     "output_type": "execute_result"
    }
   ],
   "source": [
    "val ranks = graph.pageRank(0.0001).vertices\n",
    "\n",
    "val rankedVertexDegrees = ranks.join(graph.degrees)"
   ]
  },
  {
   "cell_type": "code",
   "execution_count": 12,
   "id": "4d87a316",
   "metadata": {},
   "outputs": [
    {
     "data": {
      "text/plain": [
       "res6: Array[(org.apache.spark.graphx.VertexId, (Double, Int))] = Array((1779,(0.4455408808892897,88)), (17523,(6.451457428879024,102)), (6256,(0.3940901383492063,5)))\r\n"
      ]
     },
     "execution_count": 12,
     "metadata": {},
     "output_type": "execute_result"
    }
   ],
   "source": [
    "rankedVertexDegrees.takeSample(false, 3)"
   ]
  },
  {
   "cell_type": "code",
   "execution_count": 13,
   "id": "d1ddd3ac",
   "metadata": {},
   "outputs": [
    {
     "data": {
      "text/plain": [
       "graphWithRankedDegrees: org.apache.spark.graphx.Graph[(String, String, Double, Int),String] = org.apache.spark.graphx.impl.GraphImpl@528d5227\r\n"
      ]
     },
     "execution_count": 13,
     "metadata": {},
     "output_type": "execute_result"
    }
   ],
   "source": [
    "val graphWithRankedDegrees = graph.outerJoinVertices(rankedVertexDegrees) {\n",
    "    (_, data, vertexWithRank) => (\n",
    "        data._1,  // page_name\n",
    "        data._2,  // page_type\n",
    "        vertexWithRank.getOrElse((0.0, 0))._1,  // PageRank value\n",
    "        vertexWithRank.getOrElse((0.0, 0))._2   // degree\n",
    "    )\n",
    "}"
   ]
  },
  {
   "cell_type": "code",
   "execution_count": 14,
   "id": "b958ad6d",
   "metadata": {},
   "outputs": [
    {
     "data": {
      "text/plain": [
       "res7: Array[(org.apache.spark.graphx.VertexId, (String, String, Double, Int))] = Array((20023,(Personal Argentina,company,0.880418853376254,5)), (12874,(Michael Gidley,politician,1.4011238359565301,60)), (17254,(adidas,company,6.72847835375543,67)))\r\n"
      ]
     },
     "execution_count": 14,
     "metadata": {},
     "output_type": "execute_result"
    }
   ],
   "source": [
    "graphWithRankedDegrees.vertices.takeSample(false, 3)"
   ]
  },
  {
   "cell_type": "code",
   "execution_count": 15,
   "id": "111dd950",
   "metadata": {},
   "outputs": [
    {
     "data": {
      "text/plain": [
       "top_50: Array[(String, String)] = Array((\" Chapters and Coles\"\",\"Indigo), (\" Georgetown)\"\",\"India in Guyana (High Commission of India), (\" Wissenschaft & Digitale Gesellschaft\"\",\"Thüringer Ministerium für Wirtschaft), (company,Abarth), (company,Bosch Professional Power Tools and Accessories), (company,CVS Pharmacy), (company,Cathay Pacific Airways), (company,Chupa Chups), (company,Dignity Health), (company,GIORDANO), (company,Imovelweb), (company,Keurig), (company,OLTURSA), (company,Pizzaro), (company,Tottus Perú), (company,Triumph), (company,Yenda), (company,dubdub Stories), (government,Ambassade du Canada en Israël), (government,Australia in Thailand), (government,Camden County Government), (government,City of Los Altos Police Department), (government,EnergySaver.gov), (government,Flo...\r\n"
      ]
     },
     "execution_count": 15,
     "metadata": {},
     "output_type": "execute_result"
    }
   ],
   "source": [
    "val top_50 = (\n",
    "    graphWithRankedDegrees.vertices\n",
    "    .top(50)\n",
    "    .map(v => (v._2._2, v._2._1))  // degree, page_type, page_name\n",
    "    .sorted\n",
    ")\n",
    "\n",
    "\n",
    "val last_50 = (\n",
    "    graphWithRankedDegrees.vertices\n",
    "    .takeOrdered(50)\n",
    "    .map(v => (v._2._2, v._2._1))  // degree, page_type, page_name\n",
    "    .sorted\n",
    ")"
   ]
  },
  {
   "cell_type": "code",
   "execution_count": 44,
   "id": "fa49c5f1",
   "metadata": {
    "scrolled": true
   },
   "outputs": [
    {
     "data": {
      "application/vnd.jupyter.widget-view+json": {
       "model_id": "58906c610067489b9d2ba84b44c1d842",
       "version_major": 2,
       "version_minor": 0
      },
      "text/plain": [
       "VBox()"
      ]
     },
     "metadata": {},
     "output_type": "display_data"
    },
    {
     "data": {
      "application/vnd.jupyter.widget-view+json": {
       "model_id": "",
       "version_major": 2,
       "version_minor": 0
      },
      "text/plain": [
       "FloatProgress(value=0.0, bar_style='info', description='Progress:', layout=Layout(height='25px', width='50%'),…"
      ]
     },
     "metadata": {},
     "output_type": "display_data"
    },
    {
     "name": "stdout",
     "output_type": "stream",
     "text": [
      "( Chapters and Coles\",\"Indigo)\n",
      "( Georgetown)\",\"India in Guyana (High Commission of India)\n",
      "( Wissenschaft & Digitale Gesellschaft\",\"Th?ringer Ministerium f?r Wirtschaft)\n",
      "(company,Abarth)\n",
      "(company,Bosch Professional Power Tools and Accessories)\n",
      "(company,CVS Pharmacy)\n",
      "(company,Cathay Pacific Airways)\n",
      "(company,Chupa Chups)\n",
      "(company,Dignity Health)\n",
      "(company,GIORDANO)\n",
      "(company,Imovelweb)\n",
      "(company,Keurig)\n",
      "(company,OLTURSA)\n",
      "(company,Pizzaro)\n",
      "(company,Tottus Per?)\n",
      "(company,Triumph)\n",
      "(company,Yenda)\n",
      "(company,dubdub Stories)\n",
      "(government,Ambassade du Canada en Isra?l)\n",
      "(government,Australia in Thailand)\n",
      "(government,Camden County Government)\n",
      "(government,City of Los Altos Police Department)\n",
      "(government,EnergySaver.gov)\n",
      "(government,Florida Division of Historical Resources)\n",
      "(government,Memphis VA Medical Center)\n",
      "(government,Michigan Department of Agriculture & Rural Development - MDARD)\n",
      "(government,Ministerio del Interior - Paraguay)\n",
      "(government,Monroe County Sheriff's Office)\n",
      "(government,NYPD 33rd Precinct)\n",
      "(government,The City of South San Francisco ? Government)\n",
      "(government,U.S. Army 261st Multifunctional Medical Battalion)\n",
      "(government,US National Weather Service Amarillo Texas)\n",
      "(politician,Antonio Tajani)\n",
      "(politician,Bill Johnston MLA)\n",
      "(politician,Cr Amanda Cooper)\n",
      "(politician,Daniel K?bler)\n",
      "(politician,Deborah O'Neill)\n",
      "(politician,Federica Mogherini)\n",
      "(politician,Greg Hands)\n",
      "(politician,Jerome Mika)\n",
      "(politician,Kurt Wiegel MdL)\n",
      "(politician,Maria Elena Boschi)\n",
      "(politician,Marietje In Europa)\n",
      "(politician,Miguel Romo)\n",
      "(politician,Nicholas Sarwark)\n",
      "(politician,Professor Yemi Osinbajo)\n",
      "(politician,Werner Langen)\n",
      "(tvshow,Premier Boxing Champions)\n",
      "(tvshow,SPORT1 Doppelpass)\n",
      "(tvshow,Uwaga! po Uwadze)\n"
     ]
    }
   ],
   "source": [
    "for (v <- top_50)\n",
    "    println(v)"
   ]
  },
  {
   "cell_type": "code",
   "execution_count": 45,
   "id": "af7f3e22",
   "metadata": {
    "scrolled": true
   },
   "outputs": [
    {
     "data": {
      "application/vnd.jupyter.widget-view+json": {
       "model_id": "e99c079d5bf84468b01371a415f7d5fc",
       "version_major": 2,
       "version_minor": 0
      },
      "text/plain": [
       "VBox()"
      ]
     },
     "metadata": {},
     "output_type": "display_data"
    },
    {
     "data": {
      "application/vnd.jupyter.widget-view+json": {
       "model_id": "",
       "version_major": 2,
       "version_minor": 0
      },
      "text/plain": [
       "FloatProgress(value=0.0, bar_style='info', description='Progress:', layout=Layout(height='25px', width='50%'),…"
      ]
     },
     "metadata": {},
     "output_type": "display_data"
    },
    {
     "name": "stdout",
     "output_type": "stream",
     "text": [
      "(company,Die Techniker (TK))\n",
      "(company,Digicel)\n",
      "(company,ESET)\n",
      "(company,Ford Danmark)\n",
      "(company,Honey Bunches of Oats)\n",
      "(company,Hotel Indigo)\n",
      "(company,Hydro Coco)\n",
      "(company,Marriott Rewards)\n",
      "(company,Omoda)\n",
      "(company,Schweppes Australia)\n",
      "(company,Shapeways)\n",
      "(company,Sunrun)\n",
      "(company,Tahiti Tourisme)\n",
      "(company,TalkTalk)\n",
      "(company,TeleCentro)\n",
      "(company,Volaris)\n",
      "(government,1st Armored Division Sustainment Brigade)\n",
      "(government,Army ROTC Fighting Saints Battalion)\n",
      "(government,Brisbane Water LAC - NSW Police Force)\n",
      "(government,Consulate General of Switzerland in Montreal)\n",
      "(government,Embassy of the Netherlands in Uganda)\n",
      "(government,Ministerio de Comunicaciones de la Rep?blica Argentina)\n",
      "(government,Municipio de Lomas de Zamora)\n",
      "(government,NASA Student Launch)\n",
      "(government,NASA's Marshall Space Flight Center)\n",
      "(government,NCBI - National Center for Biotechnology Information)\n",
      "(government,National Institute of General Medical Sciences)\n",
      "(government,Nuevo Le?n Extraordinario)\n",
      "(government,Polic?a Nacional de los Colombianos)\n",
      "(government,Service de police de la Ville de Montr?al - SPVM)\n",
      "(government,Socialstyrelsen)\n",
      "(government,St. Cloud VA Health Care System)\n",
      "(government,T.C. Mezar-? ?erif Ba?konsoloslu?u)\n",
      "(government,T.C. Niamey B?y?kel?ili?i/ Ambassade de Turquie ? Niamey)\n",
      "(government,Tennessee Secretary of State)\n",
      "(government,U.S. Consulate General Mumbai)\n",
      "(politician,Deputado Ademir Camilo)\n",
      "(politician,Digvijaya Singh)\n",
      "(politician,Eduardo Barbosa)\n",
      "(politician,Eliziane Gama)\n",
      "(politician,Fran?oise Gu?got)\n",
      "(politician,Ivan ?TEFANEC)\n",
      "(politician,Jean-Claude Poissant)\n",
      "(politician,Lance Gooden)\n",
      "(politician,Mark Bailey MP - Labor for Miller)\n",
      "(politician,Victor Dominello MP)\n",
      "(politician,???)\n",
      "(tvshow,APB FOX)\n",
      "(tvshow,Poppy Cat)\n",
      "(tvshow,The Voice of China ?????)\n"
     ]
    }
   ],
   "source": [
    "for (v <- last_50)\n",
    "    println(v)"
   ]
  },
  {
   "cell_type": "code",
   "execution_count": 16,
   "id": "4b5d1d82",
   "metadata": {},
   "outputs": [
    {
     "data": {
      "text/plain": [
       "rankedVertexDegreesValues: org.apache.spark.rdd.RDD[(Double, Int)] = MapPartitionsRDD[1840] at map at <console>:38\r\n",
       "res8: Array[(Double, Int)] = Array((1.0010962196511752,14), (0.3949291843904702,21), (0.5220394640479997,6))\r\n"
      ]
     },
     "execution_count": 16,
     "metadata": {},
     "output_type": "execute_result"
    }
   ],
   "source": [
    "val rankedVertexDegreesValues = (\n",
    "    rankedVertexDegrees\n",
    "    .map(v => (v._2._1, v._2._2))\n",
    ")\n",
    "\n",
    "rankedVertexDegreesValues.takeSample(false, 3)"
   ]
  },
  {
   "cell_type": "code",
   "execution_count": 17,
   "id": "bd8c7da2",
   "metadata": {},
   "outputs": [
    {
     "data": {
      "text/plain": [
       "import java.io._\r\n",
       "file: String = degree_pagerank.txt\r\n",
       "writer: java.io.BufferedWriter = java.io.BufferedWriter@beecab\r\n"
      ]
     },
     "execution_count": 17,
     "metadata": {},
     "output_type": "execute_result"
    }
   ],
   "source": [
    "import java.io._\n",
    "\n",
    "val file = \"degree_pagerank.txt\"\n",
    "val writer = new BufferedWriter(new OutputStreamWriter(new FileOutputStream(file)))\n",
    "\n",
    "writer.write(rankedVertexDegreesValues.collect().mkString(\",\"))\n",
    "writer.close()\n"
   ]
  },
  {
   "cell_type": "code",
   "execution_count": 49,
   "id": "63470669",
   "metadata": {},
   "outputs": [
    {
     "data": {
      "image/png": "[encoded data removed]",
      "text/plain": [
       "<IPython.core.display.Image object>"
      ]
     },
     "execution_count": 49,
     "metadata": {},
     "output_type": "execute_result"
    }
   ],
   "source": [
    "%%python\n",
    "from tempfile import NamedTemporaryFile\n",
    "\n",
    "import matplotlib.pyplot as plt\n",
    "from IPython.display import Image\n",
    "\n",
    "with open(\"degree_pagerank.txt\") as file:\n",
    "    text = file.read()\n",
    "\n",
    "tuples = [tup[:-1] for tup in text.split(\",(\")]\n",
    "tuples[0] = tuples[0][1:]\n",
    "tuples = [tup.split(\",\") for tup in tuples]\n",
    "tuples = [(int(tup[1]), float(tup[0])) for tup in tuples]\n",
    "tuples.sort()\n",
    "\n",
    "degrees = [degree for pagerank_value, degree in tuples]\n",
    "pagerank_values = [pagerank_value for pagerank_value, degree in tuples]\n",
    "\n",
    "plt.clf()\n",
    "plt.scatter(degrees, pagerank_values, c=\"b\")\n",
    "plt.title(\"PageRank value per node degree\")\n",
    "\n",
    "with NamedTemporaryFile(suffix=\".png\", delete=False) as file:\n",
    "    plt.savefig(file.name)\n",
    "    retval = Image(filename=file.name)\n"
   ]
  },
  {
   "cell_type": "markdown",
   "id": "a588f4db",
   "metadata": {},
   "source": [
    "## Pregel"
   ]
  },
  {
   "cell_type": "markdown",
   "id": "8dd01b88",
   "metadata": {},
   "source": [
    "Implement the following algorithm using Pregel API:\n",
    "1. Selected page publishes a fake news post\n",
    "2. Post is published by $1/3$ randomly chosen contacts of that page\n",
    "3. In next steps for each page that has already published the post, $1/3$ randomly chosen contacts of that page publish the post\n",
    "\n",
    "Visualize how the number of pages that published the post change based on the number of steps."
   ]
  },
  {
   "cell_type": "code",
   "execution_count": 40,
   "id": "68ced9e8",
   "metadata": {},
   "outputs": [
    {
     "data": {
      "text/plain": [
       "import scala.language.implicitConversions\r\n",
       "bool2int: (b: Boolean)Int\r\n",
       "getPublishersNumber: (graph: org.apache.spark.graphx.Graph[Boolean,String], maxIter: Int)Int\r\n"
      ]
     },
     "execution_count": 40,
     "metadata": {},
     "output_type": "execute_result"
    }
   ],
   "source": [
    "import scala.language.implicitConversions\n",
    "\n",
    "implicit def bool2int(b:Boolean) = if (b) 1 else 0\n",
    "\n",
    "\n",
    "def getPublishersNumber(graph: graphx.Graph[Boolean,String], maxIter: Int): Int = {\n",
    "    val publishGraph = Pregel(\n",
    "        graph,\n",
    "        false,\n",
    "        maxIter,\n",
    "        activeDirection = EdgeDirection.Out\n",
    "    )(\n",
    "        (id, value, msg) => value || (msg && (scala.util.Random.nextFloat() < 0.333)),\n",
    "        triplet => Iterator((triplet.dstId, triplet.srcAttr)),\n",
    "        (a, b) => a || b\n",
    "    )\n",
    "    \n",
    "    publishGraph.vertices.collect().map(v => v._2 * 1).sum\n",
    "}"
   ]
  },
  {
   "cell_type": "code",
   "execution_count": 44,
   "id": "5f78af84",
   "metadata": {},
   "outputs": [
    {
     "data": {
      "text/plain": [
       "publishId: Int = 1\r\n",
       "initialGraph: org.apache.spark.graphx.Graph[Boolean,String] = org.apache.spark.graphx.impl.GraphImpl@16c498f5\r\n",
       "publisherNumbers: scala.collection.immutable.IndexedSeq[Int] = Vector(12, 115, 442, 866, 1208, 2602, 3067, 3264, 4097, 4408, 5716, 6099, 5298, 6759, 6980, 4633, 7384, 7444, 6896, 7865, 6044, 7839, 8319, 2642, 8215, 8231, 7098, 8225, 8547, 8568, 8188, 8365)\r\n"
      ]
     },
     "execution_count": 44,
     "metadata": {},
     "output_type": "execute_result"
    }
   ],
   "source": [
    "val publishId = 1\n",
    "val initialGraph = ((publishId: VertexId) => graph.mapVertices((id, _) => id == publishId))(publishId)\n",
    "\n",
    "val publisherNumbers = for (maxIter <- 1 to 32) yield getPublishersNumber(initialGraph, maxIter)"
   ]
  },
  {
   "cell_type": "code",
   "execution_count": 45,
   "id": "1d73c8b8",
   "metadata": {},
   "outputs": [
    {
     "data": {
      "text/plain": [
       "import java.io._\r\n",
       "file: String = publisher_numbers.txt\r\n",
       "writer: java.io.BufferedWriter = java.io.BufferedWriter@2c48273\r\n"
      ]
     },
     "execution_count": 45,
     "metadata": {},
     "output_type": "execute_result"
    }
   ],
   "source": [
    "import java.io._\n",
    "\n",
    "val file = \"publisher_numbers.txt\"\n",
    "val writer = new BufferedWriter(new OutputStreamWriter(new FileOutputStream(file)))\n",
    "\n",
    "writer.write(publisherNumbers.mkString(\",\"))\n",
    "writer.close()\n"
   ]
  },
  {
   "cell_type": "code",
   "execution_count": 50,
   "id": "97ce0579",
   "metadata": {},
   "outputs": [
    {
     "data": {
      "image/png": "[encoded data removed]",
      "text/plain": [
       "<IPython.core.display.Image object>"
      ]
     },
     "execution_count": 50,
     "metadata": {},
     "output_type": "execute_result"
    }
   ],
   "source": [
    "%%python\n",
    "from tempfile import NamedTemporaryFile\n",
    "\n",
    "import matplotlib.pyplot as plt\n",
    "from IPython.display import Image\n",
    "\n",
    "with open(\"publisher_numbers.txt\") as file:\n",
    "    text = file.read()\n",
    "\n",
    "xs = list(range(1, 33))\n",
    "ys = [int(val) for val in text.split(\",\")]\n",
    "\n",
    "plt.clf()\n",
    "plt.scatter(xs, ys, c=\"b\")\n",
    "plt.title(\"Numer of publishers per number of steps\")\n",
    "\n",
    "with NamedTemporaryFile(suffix=\".png\", delete=False) as file:\n",
    "    plt.savefig(file.name)\n",
    "    retval = Image(filename=file.name)\n"
   ]
  },
  {
   "cell_type": "markdown",
   "id": "60d57569",
   "metadata": {},
   "source": [
    "## Checking scale-free property"
   ]
  },
  {
   "cell_type": "markdown",
   "id": "28b9c8b7",
   "metadata": {},
   "source": [
    "Plot the distribution of vertex degree of the graph on the logarithmic scale. Is the network scale-free?"
   ]
  },
  {
   "cell_type": "code",
   "execution_count": 18,
   "id": "28b56948",
   "metadata": {},
   "outputs": [
    {
     "data": {
      "text/plain": [
       "degrees: org.apache.spark.rdd.RDD[Int] = MapPartitionsRDD[1842] at map at <console>:39\r\n",
       "res10: Array[Int] = Array(1, 12, 43, 48, 1, 5, 6, 4, 11, 2)\r\n"
      ]
     },
     "execution_count": 18,
     "metadata": {},
     "output_type": "execute_result"
    }
   ],
   "source": [
    "val degrees = graph.degrees.map(v => v._2)\n",
    "\n",
    "degrees.takeSample(false, 10)"
   ]
  },
  {
   "cell_type": "code",
   "execution_count": 19,
   "id": "5dc75d80",
   "metadata": {},
   "outputs": [
    {
     "data": {
      "text/plain": [
       "bins: Array[Double] = Array(1.0, 1.998589562764457, 2.997179125528914, 3.9957686882933707, 4.994358251057828, 5.992947813822285, 6.9915373765867415, 7.990126939351199, 8.988716502115656, 9.987306064880112, 10.98589562764457, 11.984485190409027, 12.983074753173483, 13.981664315937941, 14.980253878702397, 15.978843441466855, 16.97743300423131, 17.97602256699577, 18.974612129760224, 19.973201692524682, 20.97179125528914, 21.970380818053595, 22.968970380818053, 23.96755994358251, 24.966149506346966, 25.964739069111424, 26.963328631875882, 27.96191819464034, 28.960507757404795, 29.959097320169253, 30.95768688293371, 31.956276445698165, 32.95486600846262, 33.95345557122708, 34.95204513399154, 35.950634696756, 36.94922425952045, 37.94781382228491, 38.946403385049365, 39.94499294781382, 40.9435...\r\n"
      ]
     },
     "execution_count": 19,
     "metadata": {},
     "output_type": "execute_result"
    }
   ],
   "source": [
    "val (bins, values) = degrees.histogram(degrees.max)"
   ]
  },
  {
   "cell_type": "code",
   "execution_count": 22,
   "id": "0f652743",
   "metadata": {},
   "outputs": [
    {
     "data": {
      "text/plain": [
       "import java.io._\r\n",
       "file: String = histogram_values.txt\r\n",
       "writer: java.io.BufferedWriter = java.io.BufferedWriter@5f16fcf6\r\n"
      ]
     },
     "execution_count": 22,
     "metadata": {},
     "output_type": "execute_result"
    }
   ],
   "source": [
    "import java.io._\n",
    "\n",
    "val file = \"histogram_values.txt\"\n",
    "val writer = new BufferedWriter(new OutputStreamWriter(new FileOutputStream(file)))\n",
    "\n",
    "writer.write(values.mkString(\",\"))\n",
    "writer.close()\n"
   ]
  },
  {
   "cell_type": "code",
   "execution_count": 58,
   "id": "50a00b16",
   "metadata": {},
   "outputs": [
    {
     "data": {
      "image/png": "[encoded data removed]",
      "text/plain": [
       "<IPython.core.display.Image object>"
      ]
     },
     "execution_count": 58,
     "metadata": {},
     "output_type": "execute_result"
    }
   ],
   "source": [
    "%%python\n",
    "from tempfile import NamedTemporaryFile\n",
    "\n",
    "import matplotlib.pyplot as plt\n",
    "import numpy as np\n",
    "from IPython.display import Image\n",
    "\n",
    "with open(\"histogram_values.txt\") as file:\n",
    "    text = file.read()\n",
    "\n",
    "ys = np.array([int(val) for val in text.split(\",\")])\n",
    "xs = list(range(1, len(ys) + 1))\n",
    "\n",
    "plt.clf()\n",
    "plt.scatter(np.log(xs), np.log(ys), color=\"b\")\n",
    "plt.title(\"Degree histogram\")\n",
    "\n",
    "with NamedTemporaryFile(suffix=\".png\", delete=False) as file:\n",
    "    plt.savefig(file.name)\n",
    "    retval = Image(filename=file.name)\n"
   ]
  },
  {
   "cell_type": "markdown",
   "id": "6db6a4fa",
   "metadata": {},
   "source": [
    "Network is indeed scale-free (compare log-log plot e.g. with [this one](https://mathinsight.org/scale_free_network))."
   ]
  },
  {
   "cell_type": "code",
   "execution_count": null,
   "id": "19570c28",
   "metadata": {},
   "outputs": [],
   "source": []
  }
 ],
 "metadata": {
  "interpreter": {
   "hash": "916dbcbb3f70747c44a77c7bcd40155683ae19c65e1c03b4aa3499c5328201f1"
  },
  "kernelspec": {
   "display_name": "spylon-kernel",
   "language": "scala",
   "name": "spylon-kernel"
  },
  "language_info": {
   "codemirror_mode": "text/x-scala",
   "file_extension": ".scala",
   "help_links": [
    {
     "text": "MetaKernel Magics",
     "url": "https://metakernel.readthedocs.io/en/latest/source/README.html"
    }
   ],
   "mimetype": "text/x-scala",
   "name": "scala",
   "pygments_lexer": "scala",
   "version": "0.4.1"
  }
 },
 "nbformat": 4,
 "nbformat_minor": 5
}
